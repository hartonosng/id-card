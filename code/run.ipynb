{
 "cells": [
  {
   "cell_type": "code",
   "execution_count": 18,
   "metadata": {},
   "outputs": [
    {
     "name": "stdout",
     "output_type": "stream",
     "text": [
      "Figure(640x480)"
     ]
    },
    {
     "name": "stderr",
     "output_type": "stream",
     "text": [
      "2023-10-24 17:49:56.135160: W tensorflow/stream_executor/platform/default/dso_loader.cc:64] Could not load dynamic library 'cudart64_110.dll'; dlerror: cudart64_110.dll not found\n",
      "2023-10-24 17:49:56.136357: I tensorflow/stream_executor/cuda/cudart_stub.cc:29] Ignore above cudart dlerror if you do not have a GPU set up on your machine.\n",
      "Neither CUDA nor MPS are available - defaulting to CPU. Note: This module is much faster with a GPU.\n",
      "c:\\Users\\Bambang Hartono S\\anaconda3\\lib\\site-packages\\torchvision\\models\\_utils.py:252: UserWarning: Accessing the model URLs via the internal dictionary of the module is deprecated since 0.13 and will be removed in 0.15. Please access them via the appropriate Weights Enum instead.\n",
      "  warnings.warn(\n"
     ]
    },
    {
     "name": "stdout",
     "output_type": "stream",
     "text": [
      "\n",
      "[174, 469, 15, 37]\n",
      "[253, 390, 41, 62]\n",
      "[146, 384, 77, 106]\n",
      "[159, 236, 117, 133]\n",
      "[158, 351, 141, 156]\n",
      "[159, 230, 164, 179]\n",
      "[321, 395, 165, 182]\n",
      "[158, 379, 186, 202]\n",
      "[158, 215, 209, 225]\n",
      "[159, 259, 233, 248]\n",
      "[159, 251, 256, 271]\n",
      "[158, 225, 278, 294]\n",
      "[159, 260, 324, 340]\n",
      "[159, 276, 370, 386]\n",
      "number of detected boxes 14\n",
      "dict_items([('Provinsi', 'PROVINSI KEPULAUAN RIAU'), ('Kota', 'KOTA BATAM'), ('NIK', '2171101212749021'), ('Nama', 'HANDOKO'), ('Tempat/Tgl Lahir', 'IBANJARMASIN 12-12-1974'), ('Jenis Kelamin', 'LAKI-LAKI'), ('Gol Darah', 'GÓL @ARAH'), ('Alamat', 'GOLDEN LAND BLOK:F NO. 39'), ('RT/RW', '002/013'), ('Kel/Desa', 'TAMAN BALOI'), ('Kecamatan', 'BATAM KOTA'), ('Agama', 'KRISTEN'), ('Status Perkawinan', 'WIRASWASTA'), ('Pekerjaan', 'SEUMUR HIDUP'), ('Kewarganegaraan', ''), ('Berlaku Hingga', '')])\n",
      "Provinsi : PROVINSI KEPULAUAN RIAU\n",
      "Kota : KOTA BATAM\n",
      "NIK : 2171101212749021\n",
      "Nama : HANDOKO\n"
     ]
    },
    {
     "name": "stderr",
     "output_type": "stream",
     "text": [
      "c:\\Users\\Bambang Hartono S\\anaconda3\\lib\\site-packages\\torchvision\\models\\_utils.py:208: UserWarning: The parameter 'pretrained' is deprecated since 0.13 and will be removed in 0.15, please use 'weights' instead.\n",
      "  warnings.warn(\n",
      "c:\\Users\\Bambang Hartono S\\anaconda3\\lib\\site-packages\\torchvision\\models\\_utils.py:223: UserWarning: Arguments other than a weight enum or `None` for 'weights' are deprecated since 0.13 and will be removed in 0.15. The current behavior is equivalent to passing `weights=None`.\n",
      "  warnings.warn(msg)\n",
      "c:\\Users\\Bambang Hartono S\\anaconda3\\lib\\site-packages\\craft_text_detector\\craft_utils.py:415: VisibleDeprecationWarning: Creating an ndarray from ragged nested sequences (which is a list-or-tuple of lists-or-tuples-or ndarrays with different lengths or shapes) is deprecated. If you meant to do this, you must specify 'dtype=object' when creating the ndarray.\n",
      "  polys = np.array(polys)\n",
      "c:\\Users\\Bambang Hartono S\\anaconda3\\lib\\site-packages\\craft_text_detector\\predict.py:110: VisibleDeprecationWarning: Creating an ndarray from ragged nested sequences (which is a list-or-tuple of lists-or-tuples-or ndarrays with different lengths or shapes) is deprecated. If you meant to do this, you must specify 'dtype=object' when creating the ndarray.\n",
      "  polys_as_ratio = np.array(polys_as_ratio)\n"
     ]
    },
    {
     "name": "stdout",
     "output_type": "stream",
     "text": [
      "Tempat/Tgl Lahir : IBANJARMASIN 12-12-1974\n",
      "Jenis Kelamin : LAKI-LAKI\n",
      "Gol Darah : GÓL @ARAH\n",
      "Alamat : GOLDEN LAND BLOK:F NO. 39\n",
      "RT/RW : 002/013\n",
      "Kel/Desa : TAMAN BALOI\n",
      "Kecamatan : BATAM KOTA\n",
      "Agama : KRISTEN\n",
      "Status Perkawinan : WIRASWASTA\n",
      "Pekerjaan : SEUMUR HIDUP\n",
      "Kewarganegaraan : \n",
      "Berlaku Hingga : \n",
      " \n",
      "Figure(640x480)\n",
      "[214, 476, 10, 34]\n",
      "[233, 459, 36, 58]\n",
      "[165, 449, 71, 98]\n",
      "[181, 293, 115, 133]\n",
      "[182, 333, 137, 157]\n",
      "[183, 263, 161, 176]\n",
      "[337, 418, 161, 177]\n",
      "[182, 425, 182, 198]\n",
      "[183, 265, 205, 221]\n",
      "[183, 307, 225, 242]\n",
      "[184, 292, 248, 264]\n",
      "[182, 238, 268, 284]\n",
      "[184, 236, 311, 329]\n",
      "[185, 273, 356, 372]\n",
      "number of detected boxes 14\n",
      "dict_items([('Provinsi', 'RROVINSDŁAWQTIMUR'), ('Kota', 'KABUPATENKEDIRI'), ('NIK', '35060426026L0001'), ('Nama', 'SYYSTYON@'), ('Tempat/Tgl Lahir', 'KEDIRI;26 02-1966;'), ('Jenis Kelamin', 'EAK:LARI'), ('Gol Darah', 'GOL: DARÄHS'), ('Alamat', 'JLHAYA -DBNPURWOKERT@'), ('RT/RW', ':OD2:K003.'), ('Kel/Desa', 'PURW@KEATO'), ('Kecamatan', \"'ZGÄDILUWIF\"), ('Agama', 'ISBAM:'), ('Status Perkawinan', 'GUHU.'), ('Pekerjaan', '26-022017'), ('Kewarganegaraan', ''), ('Berlaku Hingga', '')])\n",
      "Provinsi : RROVINSDŁAWQTIMUR\n",
      "Kota : KABUPATENKEDIRI\n",
      "NIK : 35060426026L0001\n",
      "Nama : SYYSTYON@\n",
      "Tempat/Tgl Lahir : KEDIRI;26 02-1966;\n",
      "Jenis Kelamin : EAK:LARI\n",
      "Gol Darah : GOL: DARÄHS\n",
      "Alamat : JLHAYA -DBNPURWOKERT@\n",
      "RT/RW : :OD2:K003.\n",
      "Kel/Desa : PURW@KEATO\n",
      "Kecamatan : 'ZGÄDILUWIF\n",
      "Agama : ISBAM:\n",
      "Status Perkawinan : GUHU.\n",
      "Pekerjaan : 26-022017\n",
      "Kewarganegaraan : \n",
      "Berlaku Hingga : \n",
      " \n",
      "Figure(640x480)\n",
      "[215, 428, 28, 47]\n",
      "[247, 395, 53, 72]\n",
      "[154, 406, 108, 130]\n",
      "[180, 250, 142, 157]\n",
      "[181, 322, 163, 178]\n",
      "[321, 406, 182, 196]\n",
      "[180, 275, 183, 199]\n",
      "[179, 334, 204, 220]\n",
      "[179, 229, 225, 239]\n",
      "[180, 227, 244, 258]\n",
      "[180, 227, 262, 276]\n",
      "[179, 226, 279, 295]\n",
      "[180, 281, 320, 336]\n",
      "[181, 257, 361, 376]\n",
      "number of detected boxes 14\n",
      "dict_items([('Provinsi', 'PROVINSI JAWA BARAT'), ('Kota', 'KOTA BANDUNG'), ('NIK', '3273110212980002'), ('Nama', 'SUPRIATI'), ('Tempat/Tgl Lahir', 'BANDUNG , 02-12-98'), ('Jenis Kelamin', 'GOL, DARAH :'), ('Gol Darah', 'PEREMPUAN'), ('Alamat', 'JL. SRIWIJAYA NO. 12'), ('RT/RW', '001K005'), ('Kel/Desa', 'ANCOL'), ('Kecamatan', 'REGOL'), ('Agama', 'ISLAM'), ('Status Perkawinan', 'WIRASWASTA'), ('Pekerjaan', '11-12-2022'), ('Kewarganegaraan', ''), ('Berlaku Hingga', '')])\n",
      "Provinsi : PROVINSI JAWA BARAT\n",
      "Kota : KOTA BANDUNG\n",
      "NIK : 3273110212980002\n",
      "Nama : SUPRIATI\n",
      "Tempat/Tgl Lahir : BANDUNG , 02-12-98\n",
      "Jenis Kelamin : GOL, DARAH :\n",
      "Gol Darah : PEREMPUAN\n",
      "Alamat : JL. SRIWIJAYA NO. 12\n",
      "RT/RW : 001K005\n",
      "Kel/Desa : ANCOL\n",
      "Kecamatan : REGOL\n",
      "Agama : ISLAM\n",
      "Status Perkawinan : WIRASWASTA\n",
      "Pekerjaan : 11-12-2022\n",
      "Kewarganegaraan : \n",
      "Berlaku Hingga : \n",
      " \n",
      "Execution Time: 72.98757243156433\n"
     ]
    }
   ],
   "source": [
    "!python main.py --folder_name \"images\" --face_recognition ssd --ocr_method EasyOcr --rotation_interval 60"
   ]
  },
  {
   "cell_type": "code",
   "execution_count": null,
   "metadata": {},
   "outputs": [],
   "source": []
  }
 ],
 "metadata": {
  "kernelspec": {
   "display_name": "tf",
   "language": "python",
   "name": "tf"
  },
  "language_info": {
   "codemirror_mode": {
    "name": "ipython",
    "version": 3
   },
   "file_extension": ".py",
   "mimetype": "text/x-python",
   "name": "python",
   "nbconvert_exporter": "python",
   "pygments_lexer": "ipython3",
   "version": "3.8.5"
  }
 },
 "nbformat": 4,
 "nbformat_minor": 2
}
